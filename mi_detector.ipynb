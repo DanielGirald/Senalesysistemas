{
  "nbformat": 4,
  "nbformat_minor": 0,
  "metadata": {
    "colab": {
      "provenance": [],
      "authorship_tag": "ABX9TyMyVdDKKK+1TxMP2MK7eVP2",
      "include_colab_link": true
    },
    "kernelspec": {
      "name": "python3",
      "display_name": "Python 3"
    },
    "language_info": {
      "name": "python"
    }
  },
  "cells": [
    {
      "cell_type": "markdown",
      "metadata": {
        "id": "view-in-github",
        "colab_type": "text"
      },
      "source": [
        "<a href=\"https://colab.research.google.com/github/DanielGirald/Senalesysistemas/blob/main/mi_detector.ipynb\" target=\"_parent\"><img src=\"https://colab.research.google.com/assets/colab-badge.svg\" alt=\"Open In Colab\"/></a>"
      ]
    },
    {
      "cell_type": "code",
      "execution_count": 7,
      "metadata": {
        "id": "gI7V9cZ5VRG9",
        "outputId": "76543e97-eaaa-42f7-d086-36d3f32dfd80",
        "colab": {
          "base_uri": "https://localhost:8080/",
          "height": 211
        }
      },
      "outputs": [
        {
          "output_type": "error",
          "ename": "FileNotFoundError",
          "evalue": "[Errno 2] No such file or directory: '/content/modelo_genero.pkl'",
          "traceback": [
            "\u001b[0;31m---------------------------------------------------------------------------\u001b[0m",
            "\u001b[0;31mFileNotFoundError\u001b[0m                         Traceback (most recent call last)",
            "\u001b[0;32m<ipython-input-7-730866240>\u001b[0m in \u001b[0;36m<cell line: 0>\u001b[0;34m()\u001b[0m\n\u001b[1;32m      8\u001b[0m \u001b[0;34m\u001b[0m\u001b[0m\n\u001b[1;32m      9\u001b[0m \u001b[0;31m# Paso 3: Cargar modelo desde archivo .pkl\u001b[0m\u001b[0;34m\u001b[0m\u001b[0;34m\u001b[0m\u001b[0m\n\u001b[0;32m---> 10\u001b[0;31m \u001b[0;32mwith\u001b[0m \u001b[0mopen\u001b[0m\u001b[0;34m(\u001b[0m\u001b[0;34m'/content/modelo_genero.pkl'\u001b[0m\u001b[0;34m,\u001b[0m \u001b[0;34m'rb'\u001b[0m\u001b[0;34m)\u001b[0m \u001b[0;32mas\u001b[0m \u001b[0mf\u001b[0m\u001b[0;34m:\u001b[0m  \u001b[0;31m# Asegúrate de subir el modelo o usar la ruta correcta\u001b[0m\u001b[0;34m\u001b[0m\u001b[0;34m\u001b[0m\u001b[0m\n\u001b[0m\u001b[1;32m     11\u001b[0m     \u001b[0mmodelo\u001b[0m \u001b[0;34m=\u001b[0m \u001b[0mpickle\u001b[0m\u001b[0;34m.\u001b[0m\u001b[0mload\u001b[0m\u001b[0;34m(\u001b[0m\u001b[0mf\u001b[0m\u001b[0;34m)\u001b[0m\u001b[0;34m\u001b[0m\u001b[0;34m\u001b[0m\u001b[0m\n\u001b[1;32m     12\u001b[0m \u001b[0;34m\u001b[0m\u001b[0m\n",
            "\u001b[0;31mFileNotFoundError\u001b[0m: [Errno 2] No such file or directory: '/content/modelo_genero.pkl'"
          ]
        }
      ],
      "source": [
        "# Paso 1: Instalar librerías necesarias (si no están)\n",
        "!pip install gradio scikit-learn --quiet\n",
        "\n",
        "# Paso 2: Importar librerías\n",
        "import gradio as gr\n",
        "import pickle\n",
        "import numpy as np\n",
        "\n",
        "# Paso 3: Cargar modelo desde archivo .pkl\n",
        "with open('/content/modelo_genero.pkl', 'rb') as f:  # Asegúrate de subir el modelo o usar la ruta correcta\n",
        "    modelo = pickle.load(f)\n",
        "\n",
        "# Paso 4: Función de predicción\n",
        "def predecir_genero(nombre):\n",
        "    # Transforma el input si el modelo lo requiere (por ejemplo, vectoriza el nombre)\n",
        "    # Este es solo un ejemplo: debes ajustar esta parte según cómo fue entrenado el modelo\n",
        "    entrada = np.array([nombre])  # Si usaste un vectorizador, debe ir aquí\n",
        "    prediccion = modelo.predict(entrada)\n",
        "    return f\"Género predicho: {prediccion[0]}\"\n",
        "\n",
        "# Paso 5: Crear interfaz con Gradio\n",
        "demo = gr.Interface(\n",
        "    fn=predecir_genero,\n",
        "    inputs=gr.Textbox(lines=1, label=\"Escribe un nombre\"),\n",
        "    outputs=gr.Textbox(label=\"Predicción\"),\n",
        "    title=\"Detector de Género\",\n",
        "    description=\"Aplicación para predecir el género a partir del nombre usando un modelo entrenado\"\n",
        ")\n",
        "\n",
        "# Paso 6: Ejecutar la app\n",
        "demo.launch()\n"
      ]
    }
  ]
}